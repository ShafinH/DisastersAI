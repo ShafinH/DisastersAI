{
  "nbformat": 4,
  "nbformat_minor": 0,
  "metadata": {
    "colab": {
      "name": "Putout.ipynb",
      "provenance": [],
      "collapsed_sections": []
    },
    "kernelspec": {
      "name": "python3",
      "display_name": "Python 3"
    }
  },
  "cells": [
    {
      "cell_type": "code",
      "metadata": {
        "id": "ViO_SEvTbm8F"
      },
      "source": [
        "#All the imports\r\n",
        "import matplotlib.pyplot as plt\r\n",
        "import matplotlib.image as mpimg\r\n",
        "import numpy as np\r\n",
        "import pandas as pd\r\n",
        "import seaborn as sns\r\n",
        "from google.colab import files\r\n",
        "\r\n",
        "import tensorflow as tf\r\n",
        "import keras_preprocessing\r\n",
        "from keras_preprocessing import image\r\n",
        "from tensorflow.keras import layers\r\n",
        "from tensorflow.keras import Model\r\n",
        "from tensorflow.keras.layers.experimental import preprocessing\r\n",
        "from tensorflow.keras.optimizers import RMSprop, Adam\r\n",
        "from sklearn.model_selection import train_test_split\r\n",
        "\r\n",
        "#-----------Other-----------\r\n",
        "# Make numpy printouts easier to read.\r\n",
        "np.set_printoptions(precision=3, suppress=True)\r\n",
        "\r\n",
        "#IO for the files\r\n",
        "import io\r\n",
        "\r\n",
        "#Clear output\r\n",
        "from IPython.display import clear_output"
      ],
      "execution_count": 1,
      "outputs": []
    },
    {
      "cell_type": "code",
      "metadata": {
        "id": "jaby76JscOYw"
      },
      "source": [
        "putout_data = pd.read_csv(\"putout.csv\", na_values=\"NaN\")"
      ],
      "execution_count": 3,
      "outputs": []
    },
    {
      "cell_type": "code",
      "metadata": {
        "colab": {
          "base_uri": "https://localhost:8080/",
          "height": 189
        },
        "id": "-UN0CXo2cRx4",
        "outputId": "54e7b800-8de7-4431-8c6d-7eef6875420e"
      },
      "source": [
        "#Only get the actual necessary columns\r\n",
        "putout_data = putout_data[['latitude', 'longitude', 'putout_time', 'discovery_month', 'Vegetation', 'Temp_pre_7']]\r\n",
        "putout_data.head()"
      ],
      "execution_count": 5,
      "outputs": [
        {
          "output_type": "execute_result",
          "data": {
            "text/html": [
              "<div>\n",
              "<style scoped>\n",
              "    .dataframe tbody tr th:only-of-type {\n",
              "        vertical-align: middle;\n",
              "    }\n",
              "\n",
              "    .dataframe tbody tr th {\n",
              "        vertical-align: top;\n",
              "    }\n",
              "\n",
              "    .dataframe thead th {\n",
              "        text-align: right;\n",
              "    }\n",
              "</style>\n",
              "<table border=\"1\" class=\"dataframe\">\n",
              "  <thead>\n",
              "    <tr style=\"text-align: right;\">\n",
              "      <th></th>\n",
              "      <th>latitude</th>\n",
              "      <th>longitude</th>\n",
              "      <th>putout_time</th>\n",
              "      <th>discovery_month</th>\n",
              "      <th>Vegetation</th>\n",
              "      <th>Temp_pre_7</th>\n",
              "    </tr>\n",
              "  </thead>\n",
              "  <tbody>\n",
              "    <tr>\n",
              "      <th>0</th>\n",
              "      <td>18.105072</td>\n",
              "      <td>-66.753044</td>\n",
              "      <td>NaN</td>\n",
              "      <td>Feb</td>\n",
              "      <td>12</td>\n",
              "      <td>24.902597</td>\n",
              "    </tr>\n",
              "    <tr>\n",
              "      <th>1</th>\n",
              "      <td>35.038330</td>\n",
              "      <td>-87.610000</td>\n",
              "      <td>NaN</td>\n",
              "      <td>Dec</td>\n",
              "      <td>15</td>\n",
              "      <td>0.343529</td>\n",
              "    </tr>\n",
              "    <tr>\n",
              "      <th>2</th>\n",
              "      <td>34.947800</td>\n",
              "      <td>-88.722500</td>\n",
              "      <td>NaN</td>\n",
              "      <td>Feb</td>\n",
              "      <td>16</td>\n",
              "      <td>5.558750</td>\n",
              "    </tr>\n",
              "    <tr>\n",
              "      <th>3</th>\n",
              "      <td>39.641400</td>\n",
              "      <td>-119.308300</td>\n",
              "      <td>0 days 00:00:00.000000000</td>\n",
              "      <td>Jun</td>\n",
              "      <td>0</td>\n",
              "      <td>18.142564</td>\n",
              "    </tr>\n",
              "    <tr>\n",
              "      <th>4</th>\n",
              "      <td>30.700600</td>\n",
              "      <td>-90.591400</td>\n",
              "      <td>NaN</td>\n",
              "      <td>Sep</td>\n",
              "      <td>12</td>\n",
              "      <td>-1.000000</td>\n",
              "    </tr>\n",
              "  </tbody>\n",
              "</table>\n",
              "</div>"
            ],
            "text/plain": [
              "    latitude   longitude  ... Vegetation Temp_pre_7\n",
              "0  18.105072  -66.753044  ...         12  24.902597\n",
              "1  35.038330  -87.610000  ...         15   0.343529\n",
              "2  34.947800  -88.722500  ...         16   5.558750\n",
              "3  39.641400 -119.308300  ...          0  18.142564\n",
              "4  30.700600  -90.591400  ...         12  -1.000000\n",
              "\n",
              "[5 rows x 6 columns]"
            ]
          },
          "metadata": {
            "tags": []
          },
          "execution_count": 5
        }
      ]
    },
    {
      "cell_type": "code",
      "metadata": {
        "colab": {
          "base_uri": "https://localhost:8080/",
          "height": 189
        },
        "id": "FIpV0EM3tW6G",
        "outputId": "27a20297-4b4d-42ac-dc7f-68a189dc42cd"
      },
      "source": [
        "# Drop NA stuff\n",
        "putout_data = putout_data.dropna()\n",
        "putout_data.head()"
      ],
      "execution_count": 6,
      "outputs": [
        {
          "output_type": "execute_result",
          "data": {
            "text/html": [
              "<div>\n",
              "<style scoped>\n",
              "    .dataframe tbody tr th:only-of-type {\n",
              "        vertical-align: middle;\n",
              "    }\n",
              "\n",
              "    .dataframe tbody tr th {\n",
              "        vertical-align: top;\n",
              "    }\n",
              "\n",
              "    .dataframe thead th {\n",
              "        text-align: right;\n",
              "    }\n",
              "</style>\n",
              "<table border=\"1\" class=\"dataframe\">\n",
              "  <thead>\n",
              "    <tr style=\"text-align: right;\">\n",
              "      <th></th>\n",
              "      <th>latitude</th>\n",
              "      <th>longitude</th>\n",
              "      <th>putout_time</th>\n",
              "      <th>discovery_month</th>\n",
              "      <th>Vegetation</th>\n",
              "      <th>Temp_pre_7</th>\n",
              "    </tr>\n",
              "  </thead>\n",
              "  <tbody>\n",
              "    <tr>\n",
              "      <th>3</th>\n",
              "      <td>39.641400</td>\n",
              "      <td>-119.308300</td>\n",
              "      <td>0 days 00:00:00.000000000</td>\n",
              "      <td>Jun</td>\n",
              "      <td>0</td>\n",
              "      <td>18.142564</td>\n",
              "    </tr>\n",
              "    <tr>\n",
              "      <th>9</th>\n",
              "      <td>48.839400</td>\n",
              "      <td>-99.718500</td>\n",
              "      <td>0 days 00:00:00.000000000</td>\n",
              "      <td>Apr</td>\n",
              "      <td>15</td>\n",
              "      <td>6.053333</td>\n",
              "    </tr>\n",
              "    <tr>\n",
              "      <th>11</th>\n",
              "      <td>31.195108</td>\n",
              "      <td>-88.150651</td>\n",
              "      <td>0 days 00:00:00.000000000</td>\n",
              "      <td>Feb</td>\n",
              "      <td>12</td>\n",
              "      <td>-1.000000</td>\n",
              "    </tr>\n",
              "    <tr>\n",
              "      <th>14</th>\n",
              "      <td>32.775000</td>\n",
              "      <td>-80.658333</td>\n",
              "      <td>0 days 00:00:00.000000000</td>\n",
              "      <td>May</td>\n",
              "      <td>12</td>\n",
              "      <td>-1.000000</td>\n",
              "    </tr>\n",
              "    <tr>\n",
              "      <th>22</th>\n",
              "      <td>40.843386</td>\n",
              "      <td>-73.316419</td>\n",
              "      <td>0 days 00:00:00.000000000</td>\n",
              "      <td>Apr</td>\n",
              "      <td>15</td>\n",
              "      <td>-1.000000</td>\n",
              "    </tr>\n",
              "  </tbody>\n",
              "</table>\n",
              "</div>"
            ],
            "text/plain": [
              "     latitude   longitude  ... Vegetation Temp_pre_7\n",
              "3   39.641400 -119.308300  ...          0  18.142564\n",
              "9   48.839400  -99.718500  ...         15   6.053333\n",
              "11  31.195108  -88.150651  ...         12  -1.000000\n",
              "14  32.775000  -80.658333  ...         12  -1.000000\n",
              "22  40.843386  -73.316419  ...         15  -1.000000\n",
              "\n",
              "[5 rows x 6 columns]"
            ]
          },
          "metadata": {
            "tags": []
          },
          "execution_count": 6
        }
      ]
    },
    {
      "cell_type": "code",
      "metadata": {
        "colab": {
          "base_uri": "https://localhost:8080/"
        },
        "id": "aV-se8atdPvm",
        "outputId": "496f3b9d-24b1-4f21-bbdf-4c6e57f34da5"
      },
      "source": [
        "# Putout conversion\n",
        "putout_data['putout_time'] = putout_data['putout_time'].str.split(' ').str[0]\n",
        "putout_data['putout_time'] "
      ],
      "execution_count": 7,
      "outputs": [
        {
          "output_type": "execute_result",
          "data": {
            "text/plain": [
              "3        0\n",
              "9        0\n",
              "11       0\n",
              "14       0\n",
              "22       0\n",
              "        ..\n",
              "3099     0\n",
              "3107    50\n",
              "3109     1\n",
              "3110     0\n",
              "3111     0\n",
              "Name: putout_time, Length: 1413, dtype: object"
            ]
          },
          "metadata": {
            "tags": []
          },
          "execution_count": 7
        }
      ]
    },
    {
      "cell_type": "code",
      "metadata": {
        "colab": {
          "base_uri": "https://localhost:8080/"
        },
        "id": "2OXVDR_uv-65",
        "outputId": "2eca9af3-1222-4ce5-b43a-f2e7b2f24a3a"
      },
      "source": [
        "# Discover month conversion\n",
        "putout_data['discovery_month'] = putout_data['discovery_month'].map({'Jan': 1, 'Feb': 2, 'Mar': 3, 'Apr': 4, 'May': 5, 'Jun': 6, 'Jul': 7, 'Aug': 8, 'Sep': 9, 'Oct': 10, 'Nov': 11, 'Dec': 12 })\n",
        "putout_data['discovery_month']"
      ],
      "execution_count": 8,
      "outputs": [
        {
          "output_type": "execute_result",
          "data": {
            "text/plain": [
              "3        6\n",
              "9        4\n",
              "11       2\n",
              "14       5\n",
              "22       4\n",
              "        ..\n",
              "3099     5\n",
              "3107     8\n",
              "3109     7\n",
              "3110    11\n",
              "3111     3\n",
              "Name: discovery_month, Length: 1413, dtype: int64"
            ]
          },
          "metadata": {
            "tags": []
          },
          "execution_count": 8
        }
      ]
    },
    {
      "cell_type": "code",
      "metadata": {
        "id": "IWlJK6zG01_U"
      },
      "source": [
        "from sklearn.model_selection import train_test_split\r\n",
        "\r\n",
        "X=putout_data.drop('putout_time', axis=1) \r\n",
        "y=putout_data.putout_time  \r\n",
        "\r\n",
        "X_train, X_test, y_train, y_test = train_test_split(X, y, test_size=0.3)"
      ],
      "execution_count": 9,
      "outputs": []
    },
    {
      "cell_type": "code",
      "metadata": {
        "id": "XDjIStDE24Yi",
        "outputId": "7f1e42fe-5b3c-4970-a6f7-2785c1dcd2b5",
        "colab": {
          "base_uri": "https://localhost:8080/"
        }
      },
      "source": [
        "from sklearn.linear_model import LinearRegression\r\n",
        "regressor = LinearRegression()\r\n",
        "regressor.fit(X_train, y_train)"
      ],
      "execution_count": 10,
      "outputs": [
        {
          "output_type": "execute_result",
          "data": {
            "text/plain": [
              "LinearRegression(copy_X=True, fit_intercept=True, n_jobs=None, normalize=False)"
            ]
          },
          "metadata": {
            "tags": []
          },
          "execution_count": 10
        }
      ]
    },
    {
      "cell_type": "code",
      "metadata": {
        "id": "MjEwTPYN27LP"
      },
      "source": [
        "y_pred = regressor.predict(X_test)"
      ],
      "execution_count": 11,
      "outputs": []
    },
    {
      "cell_type": "code",
      "metadata": {
        "id": "Q59cmGtb2816",
        "outputId": "1882f30e-5963-4d73-efa5-c2c1ad5596f5",
        "colab": {
          "base_uri": "https://localhost:8080/",
          "height": 388
        }
      },
      "source": [
        "df = pd.DataFrame({'Actual': y_test, 'Predicted': y_pred})\r\n",
        "df"
      ],
      "execution_count": 12,
      "outputs": [
        {
          "output_type": "execute_result",
          "data": {
            "text/html": [
              "<div>\n",
              "<style scoped>\n",
              "    .dataframe tbody tr th:only-of-type {\n",
              "        vertical-align: middle;\n",
              "    }\n",
              "\n",
              "    .dataframe tbody tr th {\n",
              "        vertical-align: top;\n",
              "    }\n",
              "\n",
              "    .dataframe thead th {\n",
              "        text-align: right;\n",
              "    }\n",
              "</style>\n",
              "<table border=\"1\" class=\"dataframe\">\n",
              "  <thead>\n",
              "    <tr style=\"text-align: right;\">\n",
              "      <th></th>\n",
              "      <th>Actual</th>\n",
              "      <th>Predicted</th>\n",
              "    </tr>\n",
              "  </thead>\n",
              "  <tbody>\n",
              "    <tr>\n",
              "      <th>505</th>\n",
              "      <td>0</td>\n",
              "      <td>4.429114</td>\n",
              "    </tr>\n",
              "    <tr>\n",
              "      <th>2317</th>\n",
              "      <td>18</td>\n",
              "      <td>1.753981</td>\n",
              "    </tr>\n",
              "    <tr>\n",
              "      <th>119</th>\n",
              "      <td>3</td>\n",
              "      <td>2.062241</td>\n",
              "    </tr>\n",
              "    <tr>\n",
              "      <th>3059</th>\n",
              "      <td>0</td>\n",
              "      <td>-0.036837</td>\n",
              "    </tr>\n",
              "    <tr>\n",
              "      <th>100</th>\n",
              "      <td>0</td>\n",
              "      <td>0.944372</td>\n",
              "    </tr>\n",
              "    <tr>\n",
              "      <th>...</th>\n",
              "      <td>...</td>\n",
              "      <td>...</td>\n",
              "    </tr>\n",
              "    <tr>\n",
              "      <th>1429</th>\n",
              "      <td>6</td>\n",
              "      <td>-1.289518</td>\n",
              "    </tr>\n",
              "    <tr>\n",
              "      <th>2798</th>\n",
              "      <td>0</td>\n",
              "      <td>1.397665</td>\n",
              "    </tr>\n",
              "    <tr>\n",
              "      <th>3048</th>\n",
              "      <td>4</td>\n",
              "      <td>-2.090948</td>\n",
              "    </tr>\n",
              "    <tr>\n",
              "      <th>1255</th>\n",
              "      <td>0</td>\n",
              "      <td>-0.066335</td>\n",
              "    </tr>\n",
              "    <tr>\n",
              "      <th>1000</th>\n",
              "      <td>0</td>\n",
              "      <td>1.205794</td>\n",
              "    </tr>\n",
              "  </tbody>\n",
              "</table>\n",
              "<p>424 rows × 2 columns</p>\n",
              "</div>"
            ],
            "text/plain": [
              "     Actual  Predicted\n",
              "505       0   4.429114\n",
              "2317     18   1.753981\n",
              "119       3   2.062241\n",
              "3059      0  -0.036837\n",
              "100       0   0.944372\n",
              "...     ...        ...\n",
              "1429      6  -1.289518\n",
              "2798      0   1.397665\n",
              "3048      4  -2.090948\n",
              "1255      0  -0.066335\n",
              "1000      0   1.205794\n",
              "\n",
              "[424 rows x 2 columns]"
            ]
          },
          "metadata": {
            "tags": []
          },
          "execution_count": 12
        }
      ]
    },
    {
      "cell_type": "code",
      "metadata": {
        "id": "oCpgBN1U2-0J",
        "outputId": "d526d04b-6d8c-4b2d-d3b9-c21d5ab75302",
        "colab": {
          "base_uri": "https://localhost:8080/"
        }
      },
      "source": [
        "from joblib import dump, load\r\n",
        "dump(regressor, 'putout_model.joblib')"
      ],
      "execution_count": 13,
      "outputs": [
        {
          "output_type": "execute_result",
          "data": {
            "text/plain": [
              "['putout_model.joblib']"
            ]
          },
          "metadata": {
            "tags": []
          },
          "execution_count": 13
        }
      ]
    }
  ]
}