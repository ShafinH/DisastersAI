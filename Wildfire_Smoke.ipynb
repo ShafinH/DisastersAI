{
  "nbformat": 4,
  "nbformat_minor": 0,
  "metadata": {
    "colab": {
      "name": "Wildfire-Smoke.ipynb",
      "provenance": [],
      "collapsed_sections": [],
      "toc_visible": true
    },
    "kernelspec": {
      "name": "python3",
      "display_name": "Python 3"
    }
  },
  "cells": [
    {
      "cell_type": "markdown",
      "metadata": {
        "id": "HNojZJLtoMlC"
      },
      "source": [
        "#Importing Data and Libs"
      ]
    },
    {
      "cell_type": "code",
      "metadata": {
        "id": "2m4YJpYvoP6x"
      },
      "source": [
        "#Pip installs\n",
        "!pip install kaggle\n",
        "!pip install Augmentor\n",
        "\n",
        "#Import\n",
        "import os\n",
        "import matplotlib.pyplot as plt\n",
        "import matplotlib.image as mpimg\n",
        "\n",
        "import tensorflow as tf\n",
        "import keras_preprocessing\n",
        "from keras_preprocessing import image\n",
        "from keras_preprocessing.image import ImageDataGenerator\n",
        "\n",
        "from tensorflow.keras import layers\n",
        "from tensorflow.keras import Model\n",
        "from tensorflow.keras.optimizers import RMSprop\n",
        "\n",
        "import glob\n",
        "import imageio\n",
        "import numpy as np\n",
        "import PIL\n",
        "import time\n",
        "import pathlib\n",
        "from IPython import display\n",
        "\n",
        "from zipfile import ZipFile\n",
        "from google.colab import files"
      ],
      "execution_count": null,
      "outputs": []
    },
    {
      "cell_type": "code",
      "metadata": {
        "id": "W9u45__blsMN"
      },
      "source": [
        "#Kaggle Data Import\n",
        "files.upload()"
      ],
      "execution_count": null,
      "outputs": []
    },
    {
      "cell_type": "code",
      "metadata": {
        "id": "q_789QnunbVX"
      },
      "source": [
        "!mkdir -p ~/.kaggle\n",
        "!cp kaggle.json ~/.kaggle/\n",
        "\n",
        "!chmod 600 ~/.kaggle/kaggle.json"
      ],
      "execution_count": null,
      "outputs": []
    },
    {
      "cell_type": "code",
      "metadata": {
        "id": "PolSrvW5FkXP"
      },
      "source": [
        "!kaggle datasets download --force -d phylake1337/fire-dataset\n",
        "\n",
        "file_name = \"/content/fire-dataset.zip\"\n",
        "\n",
        "with ZipFile(file_name, 'r') as zip:\n",
        "  zip.extractall()\n",
        "  print('done')"
      ],
      "execution_count": null,
      "outputs": []
    },
    {
      "cell_type": "code",
      "metadata": {
        "id": "qDbo0y37GOkf"
      },
      "source": [
        "from google.colab import drive\n",
        "drive.mount('/content/drive')"
      ],
      "execution_count": null,
      "outputs": []
    },
    {
      "cell_type": "markdown",
      "metadata": {
        "id": "hUNhyqKDGROE"
      },
      "source": [
        "#Getting Data and Visualizing"
      ]
    },
    {
      "cell_type": "code",
      "metadata": {
        "id": "gILa1s3uGgZe"
      },
      "source": [
        "#figure out how to add test\n",
        "\n",
        "import os, random\n",
        "import shutil\n",
        "\n",
        "core_dir = \"content/fire_dataset/\"\n",
        "!mkdir -rf \"content/fire_dataset/train\"\n",
        "\n",
        "\n",
        "fire_dir = os.path.join('/content/fire_dataset/fire_images')\n",
        "length = len(os.listdir(fire))\n",
        "for i in range(length, 5):\n",
        "    \n",
        "\n",
        "random.choice([x for x in os.listdir(\"C:\\\\\") if os.path.isfile(os.path.join(\"C:\\\\\", x))])\n",
        "    shutil.move(full_path, \"/content/Training/no_tumor\")\n",
        "\n",
        "!rm -rf d"
      ],
      "execution_count": null,
      "outputs": []
    },
    {
      "cell_type": "code",
      "metadata": {
        "id": "xsNb6Z6UGTd8"
      },
      "source": [
        "fire_dir = os.path.join('/content/fire_dataset/fire_images')\n",
        "no_fire_dir = os.path.join('/content/fire_dataset/non_fire_images')\n",
        "\n",
        "print('total training fire images:', len(os.listdir(fire_dir)))\n",
        "print('total training no fire images:', len(os.listdir(no_fire_dir)))\n",
        "\n",
        "fire_files = os.listdir(fire_dir)\n",
        "print(fire_files[:10])"
      ],
      "execution_count": null,
      "outputs": []
    },
    {
      "cell_type": "code",
      "metadata": {
        "id": "sRa5x3TuKX5o"
      },
      "source": [
        "from IPython.display import Image, display\n",
        "display(Image('/content/fire_dataset/fire_images/fire.102.png'))"
      ],
      "execution_count": null,
      "outputs": []
    },
    {
      "cell_type": "code",
      "metadata": {
        "id": "unzHFvR-LECL"
      },
      "source": [
        "train_datagen = ImageDataGenerator(\n",
        "      rescale=1./255,\n",
        "      rotation_range=40,\n",
        "      width_shift_range=0.2,\n",
        "      height_shift_range=0.2,\n",
        "      shear_range=0.2,\n",
        "      zoom_range=0.2,\n",
        "      horizontal_flip=True,\n",
        "      vertical_flip=True,\n",
        "      fill_mode='nearest')\n",
        "\n",
        "# validation_datagen = ImageDataGenerator(rescale=1/255)\n",
        "\n",
        "train_generator = train_datagen.flow_from_directory(\n",
        "        '/content/fire_dataset/',  \n",
        "        target_size=(300, 300), \n",
        "        batch_size=128,\n",
        "        class_mode='binary')\n",
        "\n",
        "# validation_generator = validation_datagen.flow_from_directory(\n",
        "#         '/content/test/',  \n",
        "#         target_size=(300, 300),  \n",
        "#         batch_size=128,\n",
        "#         class_mode='binary')"
      ],
      "execution_count": null,
      "outputs": []
    },
    {
      "cell_type": "markdown",
      "metadata": {
        "id": "CgBmy3oSLLOt"
      },
      "source": [
        "#Actual Model"
      ]
    },
    {
      "cell_type": "code",
      "metadata": {
        "id": "qHFyvZhbLMMT"
      },
      "source": [
        "model = tf.keras.models.Sequential([\n",
        "    tf.keras.layers.Conv2D(32, (3,3), activation='relu', input_shape=(300, 300, 3)),\n",
        "    tf.keras.layers.MaxPooling2D(2, 2),\n",
        "    tf.keras.layers.Conv2D(64, (3,3), activation='relu'),\n",
        "    tf.keras.layers.MaxPooling2D(2,2),\n",
        "    tf.keras.layers.Conv2D(128, (3,3), activation='relu'),\n",
        "    tf.keras.layers.MaxPooling2D(2,2),\n",
        "    tf.keras.layers.Conv2D(128, (3,3), activation='relu'),\n",
        "    tf.keras.layers.MaxPooling2D(2,2),\n",
        "    tf.keras.layers.Dropout(0.5),\n",
        "    tf.keras.layers.Flatten(),\n",
        "    tf.keras.layers.Dense(512, activation='relu'),\n",
        "    tf.keras.layers.Dense(1, activation='sigmoid')\n",
        "])"
      ],
      "execution_count": null,
      "outputs": []
    },
    {
      "cell_type": "code",
      "metadata": {
        "id": "zlZPOf3sLPYR"
      },
      "source": [
        "from tensorflow.keras.optimizers import Adam\n",
        "\n",
        "model.compile(optimizer = Adam(lr=0.0001), \n",
        "              loss = 'binary_crossentropy', \n",
        "              metrics = ['accuracy'])\n",
        "\n",
        "model.summary()"
      ],
      "execution_count": null,
      "outputs": []
    },
    {
      "cell_type": "code",
      "metadata": {
        "id": "Xy0326q-LSCL"
      },
      "source": [
        "from keras.callbacks import EarlyStopping\n",
        "\n",
        "EPOCHS = 10\n",
        "es = EarlyStopping(\n",
        "    monitor='val_loss', \n",
        "    mode='min',\n",
        "    patience=3\n",
        ")\n",
        "\n",
        "history = model.fit(\n",
        "  train_generator,\n",
        "  steps_per_epoch=int(999/128),  \n",
        "  epochs=EPOCHS,\n",
        "  # validation_data = validation_generator,\n",
        "  # validation_steps=int(2000/128),\n",
        "  callbacks=[es]\n",
        ")"
      ],
      "execution_count": null,
      "outputs": []
    },
    {
      "cell_type": "code",
      "metadata": {
        "id": "Cg1cJNBWQ_vo"
      },
      "source": [
        "model.save(\"wildfire-weights.h5\")\n",
        "\n",
        "#Plotting\n",
        "acc = history.history['accuracy']\n",
        "loss = history.history['loss']\n",
        "\n",
        "epochs = range(len(acc))\n",
        "\n",
        "plt.plot(epochs, acc, 'r', label='Training accuracy')\n",
        "plt.title('Training accuracy')\n",
        "plt.legend(loc=0)\n",
        "plt.figure()\n",
        "\n",
        "plt.show()\n",
        "\n",
        "plt.plot(epochs, loss, 'r', label='Training loss')\n",
        "plt.title('Training loss')\n",
        "plt.legend(loc=0)\n",
        "plt.figure()\n",
        "\n",
        "plt.show()"
      ],
      "execution_count": null,
      "outputs": []
    },
    {
      "cell_type": "code",
      "metadata": {
        "id": "43NnroeLSSts"
      },
      "source": [
        "loss, acc = model.evaluate(train_generator, verbose=2)\n",
        "print(\"Loss of model: \" + str(loss)) \n",
        "print(\"Accuracy of model: \"+ str(acc*100))"
      ],
      "execution_count": null,
      "outputs": []
    }
  ]
}