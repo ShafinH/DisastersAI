{
  "nbformat": 4,
  "nbformat_minor": 0,
  "metadata": {
    "colab": {
      "name": "Putout.ipynb",
      "provenance": [],
      "collapsed_sections": []
    },
    "kernelspec": {
      "name": "python3",
      "display_name": "Python 3"
    }
  },
  "cells": [
    {
      "cell_type": "code",
      "metadata": {
        "id": "ViO_SEvTbm8F"
      },
      "source": [
        "#All the imports\r\n",
        "import matplotlib.pyplot as plt\r\n",
        "import matplotlib.image as mpimg\r\n",
        "import numpy as np\r\n",
        "import pandas as pd\r\n",
        "import seaborn as sns\r\n",
        "from google.colab import files\r\n",
        "\r\n",
        "import tensorflow as tf\r\n",
        "import keras_preprocessing\r\n",
        "from keras_preprocessing import image\r\n",
        "from tensorflow.keras import layers\r\n",
        "from tensorflow.keras import Model\r\n",
        "from tensorflow.keras.layers.experimental import preprocessing\r\n",
        "from tensorflow.keras.optimizers import RMSprop, Adam\r\n",
        "from sklearn.model_selection import train_test_split\r\n",
        "\r\n",
        "#-----------Other-----------\r\n",
        "# Make numpy printouts easier to read.\r\n",
        "np.set_printoptions(precision=3, suppress=True)\r\n",
        "\r\n",
        "#IO for the files\r\n",
        "import io\r\n",
        "\r\n",
        "#Clear output\r\n",
        "from IPython.display import clear_output"
      ],
      "execution_count": 9,
      "outputs": []
    },
    {
      "cell_type": "code",
      "metadata": {
        "id": "jaby76JscOYw",
        "colab": {
          "base_uri": "https://localhost:8080/",
          "height": 508
        },
        "outputId": "40ceda31-1d1d-4789-80b6-2ff6ec9bc06d"
      },
      "source": [
        "putout_data = pd.read_csv(\"putout.csv\", na_values=\"NaN\")"
      ],
      "execution_count": 10,
      "outputs": [
        {
          "output_type": "error",
          "ename": "ParserError",
          "evalue": "ignored",
          "traceback": [
            "\u001b[0;31m---------------------------------------------------------------------------\u001b[0m",
            "\u001b[0;31mParserError\u001b[0m                               Traceback (most recent call last)",
            "\u001b[0;32m<ipython-input-10-68685a988ccb>\u001b[0m in \u001b[0;36m<module>\u001b[0;34m()\u001b[0m\n\u001b[0;32m----> 1\u001b[0;31m \u001b[0mputout_data\u001b[0m \u001b[0;34m=\u001b[0m \u001b[0mpd\u001b[0m\u001b[0;34m.\u001b[0m\u001b[0mread_csv\u001b[0m\u001b[0;34m(\u001b[0m\u001b[0;34m\"putout.csv\"\u001b[0m\u001b[0;34m,\u001b[0m \u001b[0mna_values\u001b[0m\u001b[0;34m=\u001b[0m\u001b[0;34m\"NaN\"\u001b[0m\u001b[0;34m)\u001b[0m\u001b[0;34m\u001b[0m\u001b[0;34m\u001b[0m\u001b[0m\n\u001b[0m",
            "\u001b[0;32m/usr/local/lib/python3.6/dist-packages/pandas/io/parsers.py\u001b[0m in \u001b[0;36mread_csv\u001b[0;34m(filepath_or_buffer, sep, delimiter, header, names, index_col, usecols, squeeze, prefix, mangle_dupe_cols, dtype, engine, converters, true_values, false_values, skipinitialspace, skiprows, skipfooter, nrows, na_values, keep_default_na, na_filter, verbose, skip_blank_lines, parse_dates, infer_datetime_format, keep_date_col, date_parser, dayfirst, cache_dates, iterator, chunksize, compression, thousands, decimal, lineterminator, quotechar, quoting, doublequote, escapechar, comment, encoding, dialect, error_bad_lines, warn_bad_lines, delim_whitespace, low_memory, memory_map, float_precision)\u001b[0m\n\u001b[1;32m    686\u001b[0m     )\n\u001b[1;32m    687\u001b[0m \u001b[0;34m\u001b[0m\u001b[0m\n\u001b[0;32m--> 688\u001b[0;31m     \u001b[0;32mreturn\u001b[0m \u001b[0m_read\u001b[0m\u001b[0;34m(\u001b[0m\u001b[0mfilepath_or_buffer\u001b[0m\u001b[0;34m,\u001b[0m \u001b[0mkwds\u001b[0m\u001b[0;34m)\u001b[0m\u001b[0;34m\u001b[0m\u001b[0;34m\u001b[0m\u001b[0m\n\u001b[0m\u001b[1;32m    689\u001b[0m \u001b[0;34m\u001b[0m\u001b[0m\n\u001b[1;32m    690\u001b[0m \u001b[0;34m\u001b[0m\u001b[0m\n",
            "\u001b[0;32m/usr/local/lib/python3.6/dist-packages/pandas/io/parsers.py\u001b[0m in \u001b[0;36m_read\u001b[0;34m(filepath_or_buffer, kwds)\u001b[0m\n\u001b[1;32m    458\u001b[0m \u001b[0;34m\u001b[0m\u001b[0m\n\u001b[1;32m    459\u001b[0m     \u001b[0;32mtry\u001b[0m\u001b[0;34m:\u001b[0m\u001b[0;34m\u001b[0m\u001b[0;34m\u001b[0m\u001b[0m\n\u001b[0;32m--> 460\u001b[0;31m         \u001b[0mdata\u001b[0m \u001b[0;34m=\u001b[0m \u001b[0mparser\u001b[0m\u001b[0;34m.\u001b[0m\u001b[0mread\u001b[0m\u001b[0;34m(\u001b[0m\u001b[0mnrows\u001b[0m\u001b[0;34m)\u001b[0m\u001b[0;34m\u001b[0m\u001b[0;34m\u001b[0m\u001b[0m\n\u001b[0m\u001b[1;32m    461\u001b[0m     \u001b[0;32mfinally\u001b[0m\u001b[0;34m:\u001b[0m\u001b[0;34m\u001b[0m\u001b[0;34m\u001b[0m\u001b[0m\n\u001b[1;32m    462\u001b[0m         \u001b[0mparser\u001b[0m\u001b[0;34m.\u001b[0m\u001b[0mclose\u001b[0m\u001b[0;34m(\u001b[0m\u001b[0;34m)\u001b[0m\u001b[0;34m\u001b[0m\u001b[0;34m\u001b[0m\u001b[0m\n",
            "\u001b[0;32m/usr/local/lib/python3.6/dist-packages/pandas/io/parsers.py\u001b[0m in \u001b[0;36mread\u001b[0;34m(self, nrows)\u001b[0m\n\u001b[1;32m   1196\u001b[0m     \u001b[0;32mdef\u001b[0m \u001b[0mread\u001b[0m\u001b[0;34m(\u001b[0m\u001b[0mself\u001b[0m\u001b[0;34m,\u001b[0m \u001b[0mnrows\u001b[0m\u001b[0;34m=\u001b[0m\u001b[0;32mNone\u001b[0m\u001b[0;34m)\u001b[0m\u001b[0;34m:\u001b[0m\u001b[0;34m\u001b[0m\u001b[0;34m\u001b[0m\u001b[0m\n\u001b[1;32m   1197\u001b[0m         \u001b[0mnrows\u001b[0m \u001b[0;34m=\u001b[0m \u001b[0m_validate_integer\u001b[0m\u001b[0;34m(\u001b[0m\u001b[0;34m\"nrows\"\u001b[0m\u001b[0;34m,\u001b[0m \u001b[0mnrows\u001b[0m\u001b[0;34m)\u001b[0m\u001b[0;34m\u001b[0m\u001b[0;34m\u001b[0m\u001b[0m\n\u001b[0;32m-> 1198\u001b[0;31m         \u001b[0mret\u001b[0m \u001b[0;34m=\u001b[0m \u001b[0mself\u001b[0m\u001b[0;34m.\u001b[0m\u001b[0m_engine\u001b[0m\u001b[0;34m.\u001b[0m\u001b[0mread\u001b[0m\u001b[0;34m(\u001b[0m\u001b[0mnrows\u001b[0m\u001b[0;34m)\u001b[0m\u001b[0;34m\u001b[0m\u001b[0;34m\u001b[0m\u001b[0m\n\u001b[0m\u001b[1;32m   1199\u001b[0m \u001b[0;34m\u001b[0m\u001b[0m\n\u001b[1;32m   1200\u001b[0m         \u001b[0;31m# May alter columns / col_dict\u001b[0m\u001b[0;34m\u001b[0m\u001b[0;34m\u001b[0m\u001b[0;34m\u001b[0m\u001b[0m\n",
            "\u001b[0;32m/usr/local/lib/python3.6/dist-packages/pandas/io/parsers.py\u001b[0m in \u001b[0;36mread\u001b[0;34m(self, nrows)\u001b[0m\n\u001b[1;32m   2155\u001b[0m     \u001b[0;32mdef\u001b[0m \u001b[0mread\u001b[0m\u001b[0;34m(\u001b[0m\u001b[0mself\u001b[0m\u001b[0;34m,\u001b[0m \u001b[0mnrows\u001b[0m\u001b[0;34m=\u001b[0m\u001b[0;32mNone\u001b[0m\u001b[0;34m)\u001b[0m\u001b[0;34m:\u001b[0m\u001b[0;34m\u001b[0m\u001b[0;34m\u001b[0m\u001b[0m\n\u001b[1;32m   2156\u001b[0m         \u001b[0;32mtry\u001b[0m\u001b[0;34m:\u001b[0m\u001b[0;34m\u001b[0m\u001b[0;34m\u001b[0m\u001b[0m\n\u001b[0;32m-> 2157\u001b[0;31m             \u001b[0mdata\u001b[0m \u001b[0;34m=\u001b[0m \u001b[0mself\u001b[0m\u001b[0;34m.\u001b[0m\u001b[0m_reader\u001b[0m\u001b[0;34m.\u001b[0m\u001b[0mread\u001b[0m\u001b[0;34m(\u001b[0m\u001b[0mnrows\u001b[0m\u001b[0;34m)\u001b[0m\u001b[0;34m\u001b[0m\u001b[0;34m\u001b[0m\u001b[0m\n\u001b[0m\u001b[1;32m   2158\u001b[0m         \u001b[0;32mexcept\u001b[0m \u001b[0mStopIteration\u001b[0m\u001b[0;34m:\u001b[0m\u001b[0;34m\u001b[0m\u001b[0;34m\u001b[0m\u001b[0m\n\u001b[1;32m   2159\u001b[0m             \u001b[0;32mif\u001b[0m \u001b[0mself\u001b[0m\u001b[0;34m.\u001b[0m\u001b[0m_first_chunk\u001b[0m\u001b[0;34m:\u001b[0m\u001b[0;34m\u001b[0m\u001b[0;34m\u001b[0m\u001b[0m\n",
            "\u001b[0;32mpandas/_libs/parsers.pyx\u001b[0m in \u001b[0;36mpandas._libs.parsers.TextReader.read\u001b[0;34m()\u001b[0m\n",
            "\u001b[0;32mpandas/_libs/parsers.pyx\u001b[0m in \u001b[0;36mpandas._libs.parsers.TextReader._read_low_memory\u001b[0;34m()\u001b[0m\n",
            "\u001b[0;32mpandas/_libs/parsers.pyx\u001b[0m in \u001b[0;36mpandas._libs.parsers.TextReader._read_rows\u001b[0;34m()\u001b[0m\n",
            "\u001b[0;32mpandas/_libs/parsers.pyx\u001b[0m in \u001b[0;36mpandas._libs.parsers.TextReader._tokenize_rows\u001b[0;34m()\u001b[0m\n",
            "\u001b[0;32mpandas/_libs/parsers.pyx\u001b[0m in \u001b[0;36mpandas._libs.parsers.raise_parser_error\u001b[0;34m()\u001b[0m\n",
            "\u001b[0;31mParserError\u001b[0m: Error tokenizing data. C error: Expected 43 fields in line 3113, saw 52\n"
          ]
        }
      ]
    },
    {
      "cell_type": "code",
      "metadata": {
        "colab": {
          "base_uri": "https://localhost:8080/",
          "height": 189
        },
        "id": "-UN0CXo2cRx4",
        "outputId": "d398c55a-7506-4c51-8b79-d2e0d9ffd688"
      },
      "source": [
        "#Only get the actual necessary columns\r\n",
        "putout_data = putout_data[['latitude', 'longitude', 'putout_time', 'discovery_month', 'Vegetation', 'Temp_pre_7']]\r\n",
        "putout_data.head()"
      ],
      "execution_count": null,
      "outputs": [
        {
          "output_type": "execute_result",
          "data": {
            "text/html": [
              "<div>\n",
              "<style scoped>\n",
              "    .dataframe tbody tr th:only-of-type {\n",
              "        vertical-align: middle;\n",
              "    }\n",
              "\n",
              "    .dataframe tbody tr th {\n",
              "        vertical-align: top;\n",
              "    }\n",
              "\n",
              "    .dataframe thead th {\n",
              "        text-align: right;\n",
              "    }\n",
              "</style>\n",
              "<table border=\"1\" class=\"dataframe\">\n",
              "  <thead>\n",
              "    <tr style=\"text-align: right;\">\n",
              "      <th></th>\n",
              "      <th>latitude</th>\n",
              "      <th>longitude</th>\n",
              "      <th>putout_time</th>\n",
              "      <th>discovery_month</th>\n",
              "      <th>Vegetation</th>\n",
              "      <th>Temp_pre_7</th>\n",
              "    </tr>\n",
              "  </thead>\n",
              "  <tbody>\n",
              "    <tr>\n",
              "      <th>0</th>\n",
              "      <td>18.105072</td>\n",
              "      <td>-66.753044</td>\n",
              "      <td>NaN</td>\n",
              "      <td>Feb</td>\n",
              "      <td>12</td>\n",
              "      <td>24.902597</td>\n",
              "    </tr>\n",
              "    <tr>\n",
              "      <th>1</th>\n",
              "      <td>35.038330</td>\n",
              "      <td>-87.610000</td>\n",
              "      <td>NaN</td>\n",
              "      <td>Dec</td>\n",
              "      <td>15</td>\n",
              "      <td>0.343529</td>\n",
              "    </tr>\n",
              "    <tr>\n",
              "      <th>2</th>\n",
              "      <td>34.947800</td>\n",
              "      <td>-88.722500</td>\n",
              "      <td>NaN</td>\n",
              "      <td>Feb</td>\n",
              "      <td>16</td>\n",
              "      <td>5.558750</td>\n",
              "    </tr>\n",
              "    <tr>\n",
              "      <th>3</th>\n",
              "      <td>39.641400</td>\n",
              "      <td>-119.308300</td>\n",
              "      <td>0 days 00:00:00.000000000</td>\n",
              "      <td>Jun</td>\n",
              "      <td>0</td>\n",
              "      <td>18.142564</td>\n",
              "    </tr>\n",
              "    <tr>\n",
              "      <th>4</th>\n",
              "      <td>30.700600</td>\n",
              "      <td>-90.591400</td>\n",
              "      <td>NaN</td>\n",
              "      <td>Sep</td>\n",
              "      <td>12</td>\n",
              "      <td>-1.000000</td>\n",
              "    </tr>\n",
              "  </tbody>\n",
              "</table>\n",
              "</div>"
            ],
            "text/plain": [
              "    latitude   longitude  ... Vegetation Temp_pre_7\n",
              "0  18.105072  -66.753044  ...         12  24.902597\n",
              "1  35.038330  -87.610000  ...         15   0.343529\n",
              "2  34.947800  -88.722500  ...         16   5.558750\n",
              "3  39.641400 -119.308300  ...          0  18.142564\n",
              "4  30.700600  -90.591400  ...         12  -1.000000\n",
              "\n",
              "[5 rows x 6 columns]"
            ]
          },
          "metadata": {
            "tags": []
          },
          "execution_count": 75
        }
      ]
    },
    {
      "cell_type": "code",
      "metadata": {
        "colab": {
          "base_uri": "https://localhost:8080/",
          "height": 388
        },
        "id": "FIpV0EM3tW6G",
        "outputId": "bb424994-4371-44a2-fb57-2b95ae122fd0"
      },
      "source": [
        "# Drop NA stuff\n",
        "putout_data = putout_data.dropna()\n",
        "putout_data.head()"
      ],
      "execution_count": null,
      "outputs": [
        {
          "output_type": "execute_result",
          "data": {
            "text/html": [
              "<div>\n",
              "<style scoped>\n",
              "    .dataframe tbody tr th:only-of-type {\n",
              "        vertical-align: middle;\n",
              "    }\n",
              "\n",
              "    .dataframe tbody tr th {\n",
              "        vertical-align: top;\n",
              "    }\n",
              "\n",
              "    .dataframe thead th {\n",
              "        text-align: right;\n",
              "    }\n",
              "</style>\n",
              "<table border=\"1\" class=\"dataframe\">\n",
              "  <thead>\n",
              "    <tr style=\"text-align: right;\">\n",
              "      <th></th>\n",
              "      <th>latitude</th>\n",
              "      <th>longitude</th>\n",
              "      <th>putout_time</th>\n",
              "      <th>discovery_month</th>\n",
              "      <th>Vegetation</th>\n",
              "      <th>Temp_pre_7</th>\n",
              "    </tr>\n",
              "  </thead>\n",
              "  <tbody>\n",
              "    <tr>\n",
              "      <th>3</th>\n",
              "      <td>39.641400</td>\n",
              "      <td>-119.308300</td>\n",
              "      <td>0 days 00:00:00.000000000</td>\n",
              "      <td>Jun</td>\n",
              "      <td>0</td>\n",
              "      <td>18.142564</td>\n",
              "    </tr>\n",
              "    <tr>\n",
              "      <th>9</th>\n",
              "      <td>48.839400</td>\n",
              "      <td>-99.718500</td>\n",
              "      <td>0 days 00:00:00.000000000</td>\n",
              "      <td>Apr</td>\n",
              "      <td>15</td>\n",
              "      <td>6.053333</td>\n",
              "    </tr>\n",
              "    <tr>\n",
              "      <th>11</th>\n",
              "      <td>31.195108</td>\n",
              "      <td>-88.150651</td>\n",
              "      <td>0 days 00:00:00.000000000</td>\n",
              "      <td>Feb</td>\n",
              "      <td>12</td>\n",
              "      <td>-1.000000</td>\n",
              "    </tr>\n",
              "    <tr>\n",
              "      <th>14</th>\n",
              "      <td>32.775000</td>\n",
              "      <td>-80.658333</td>\n",
              "      <td>0 days 00:00:00.000000000</td>\n",
              "      <td>May</td>\n",
              "      <td>12</td>\n",
              "      <td>-1.000000</td>\n",
              "    </tr>\n",
              "    <tr>\n",
              "      <th>22</th>\n",
              "      <td>40.843386</td>\n",
              "      <td>-73.316419</td>\n",
              "      <td>0 days 00:00:00.000000000</td>\n",
              "      <td>Apr</td>\n",
              "      <td>15</td>\n",
              "      <td>-1.000000</td>\n",
              "    </tr>\n",
              "    <tr>\n",
              "      <th>...</th>\n",
              "      <td>...</td>\n",
              "      <td>...</td>\n",
              "      <td>...</td>\n",
              "      <td>...</td>\n",
              "      <td>...</td>\n",
              "      <td>...</td>\n",
              "    </tr>\n",
              "    <tr>\n",
              "      <th>55350</th>\n",
              "      <td>30.400883</td>\n",
              "      <td>-101.331933</td>\n",
              "      <td>2</td>\n",
              "      <td>Aug</td>\n",
              "      <td>12</td>\n",
              "      <td>30.543452</td>\n",
              "    </tr>\n",
              "    <tr>\n",
              "      <th>55351</th>\n",
              "      <td>45.922100</td>\n",
              "      <td>-111.422500</td>\n",
              "      <td>5</td>\n",
              "      <td>Oct</td>\n",
              "      <td>15</td>\n",
              "      <td>10.420339</td>\n",
              "    </tr>\n",
              "    <tr>\n",
              "      <th>55352</th>\n",
              "      <td>48.937900</td>\n",
              "      <td>-119.309100</td>\n",
              "      <td>140</td>\n",
              "      <td>Aug</td>\n",
              "      <td>15</td>\n",
              "      <td>24.363529</td>\n",
              "    </tr>\n",
              "    <tr>\n",
              "      <th>55363</th>\n",
              "      <td>38.342719</td>\n",
              "      <td>-120.695967</td>\n",
              "      <td>22</td>\n",
              "      <td>Sep</td>\n",
              "      <td>0</td>\n",
              "      <td>-1.000000</td>\n",
              "    </tr>\n",
              "    <tr>\n",
              "      <th>55365</th>\n",
              "      <td>40.604300</td>\n",
              "      <td>-123.080450</td>\n",
              "      <td>43</td>\n",
              "      <td>Jul</td>\n",
              "      <td>15</td>\n",
              "      <td>-1.000000</td>\n",
              "    </tr>\n",
              "  </tbody>\n",
              "</table>\n",
              "<p>27477 rows × 6 columns</p>\n",
              "</div>"
            ],
            "text/plain": [
              "        latitude   longitude  ... Vegetation Temp_pre_7\n",
              "3      39.641400 -119.308300  ...          0  18.142564\n",
              "9      48.839400  -99.718500  ...         15   6.053333\n",
              "11     31.195108  -88.150651  ...         12  -1.000000\n",
              "14     32.775000  -80.658333  ...         12  -1.000000\n",
              "22     40.843386  -73.316419  ...         15  -1.000000\n",
              "...          ...         ...  ...        ...        ...\n",
              "55350  30.400883 -101.331933  ...         12  30.543452\n",
              "55351  45.922100 -111.422500  ...         15  10.420339\n",
              "55352  48.937900 -119.309100  ...         15  24.363529\n",
              "55363  38.342719 -120.695967  ...          0  -1.000000\n",
              "55365  40.604300 -123.080450  ...         15  -1.000000\n",
              "\n",
              "[27477 rows x 6 columns]"
            ]
          },
          "metadata": {
            "tags": []
          },
          "execution_count": 76
        }
      ]
    },
    {
      "cell_type": "code",
      "metadata": {
        "colab": {
          "base_uri": "https://localhost:8080/"
        },
        "id": "aV-se8atdPvm",
        "outputId": "4b58b4f6-a568-47fe-dfea-0afe5c20f797"
      },
      "source": [
        "# Putout conversion\n",
        "putout_data['putout_time'] = putout_data['putout_time'].str.split(' ').str[0]\n",
        "putout_data['putout_time'] "
      ],
      "execution_count": null,
      "outputs": [
        {
          "output_type": "execute_result",
          "data": {
            "text/plain": [
              "3          0\n",
              "9          0\n",
              "11         0\n",
              "14         0\n",
              "22         0\n",
              "        ... \n",
              "55350      2\n",
              "55351      5\n",
              "55352    140\n",
              "55363     22\n",
              "55365     43\n",
              "Name: putout_time, Length: 27477, dtype: object"
            ]
          },
          "metadata": {
            "tags": []
          },
          "execution_count": 77
        }
      ]
    },
    {
      "cell_type": "code",
      "metadata": {
        "colab": {
          "base_uri": "https://localhost:8080/",
          "height": 388
        },
        "id": "2OXVDR_uv-65",
        "outputId": "3f913986-27eb-4e22-bb12-19ffa1c54146"
      },
      "source": [
        "# Discover month conversion\n",
        "putout_data['discovery_month'] = putout_data['discovery_month'].map({'Jan': 1, 'Feb': 2, 'Mar': 3, 'Apr': 4, 'May': 5, 'Jun': 6, 'Jul': 7, 'Aug': 8, 'Sep': 9, 'Oct': 10, 'Nov': 11, 'Dec': 12 })\n",
        "putout_data['discovery_month']"
      ],
      "execution_count": null,
      "outputs": [
        {
          "output_type": "execute_result",
          "data": {
            "text/html": [
              "<div>\n",
              "<style scoped>\n",
              "    .dataframe tbody tr th:only-of-type {\n",
              "        vertical-align: middle;\n",
              "    }\n",
              "\n",
              "    .dataframe tbody tr th {\n",
              "        vertical-align: top;\n",
              "    }\n",
              "\n",
              "    .dataframe thead th {\n",
              "        text-align: right;\n",
              "    }\n",
              "</style>\n",
              "<table border=\"1\" class=\"dataframe\">\n",
              "  <thead>\n",
              "    <tr style=\"text-align: right;\">\n",
              "      <th></th>\n",
              "      <th>latitude</th>\n",
              "      <th>longitude</th>\n",
              "      <th>putout_time</th>\n",
              "      <th>discovery_month</th>\n",
              "      <th>Vegetation</th>\n",
              "      <th>Temp_pre_7</th>\n",
              "    </tr>\n",
              "  </thead>\n",
              "  <tbody>\n",
              "    <tr>\n",
              "      <th>3</th>\n",
              "      <td>39.641400</td>\n",
              "      <td>-119.308300</td>\n",
              "      <td>0</td>\n",
              "      <td>NaN</td>\n",
              "      <td>0</td>\n",
              "      <td>18.142564</td>\n",
              "    </tr>\n",
              "    <tr>\n",
              "      <th>9</th>\n",
              "      <td>48.839400</td>\n",
              "      <td>-99.718500</td>\n",
              "      <td>0</td>\n",
              "      <td>NaN</td>\n",
              "      <td>15</td>\n",
              "      <td>6.053333</td>\n",
              "    </tr>\n",
              "    <tr>\n",
              "      <th>11</th>\n",
              "      <td>31.195108</td>\n",
              "      <td>-88.150651</td>\n",
              "      <td>0</td>\n",
              "      <td>NaN</td>\n",
              "      <td>12</td>\n",
              "      <td>-1.000000</td>\n",
              "    </tr>\n",
              "    <tr>\n",
              "      <th>14</th>\n",
              "      <td>32.775000</td>\n",
              "      <td>-80.658333</td>\n",
              "      <td>0</td>\n",
              "      <td>NaN</td>\n",
              "      <td>12</td>\n",
              "      <td>-1.000000</td>\n",
              "    </tr>\n",
              "    <tr>\n",
              "      <th>22</th>\n",
              "      <td>40.843386</td>\n",
              "      <td>-73.316419</td>\n",
              "      <td>0</td>\n",
              "      <td>NaN</td>\n",
              "      <td>15</td>\n",
              "      <td>-1.000000</td>\n",
              "    </tr>\n",
              "    <tr>\n",
              "      <th>...</th>\n",
              "      <td>...</td>\n",
              "      <td>...</td>\n",
              "      <td>...</td>\n",
              "      <td>...</td>\n",
              "      <td>...</td>\n",
              "      <td>...</td>\n",
              "    </tr>\n",
              "    <tr>\n",
              "      <th>55350</th>\n",
              "      <td>30.400883</td>\n",
              "      <td>-101.331933</td>\n",
              "      <td>2</td>\n",
              "      <td>NaN</td>\n",
              "      <td>12</td>\n",
              "      <td>30.543452</td>\n",
              "    </tr>\n",
              "    <tr>\n",
              "      <th>55351</th>\n",
              "      <td>45.922100</td>\n",
              "      <td>-111.422500</td>\n",
              "      <td>5</td>\n",
              "      <td>NaN</td>\n",
              "      <td>15</td>\n",
              "      <td>10.420339</td>\n",
              "    </tr>\n",
              "    <tr>\n",
              "      <th>55352</th>\n",
              "      <td>48.937900</td>\n",
              "      <td>-119.309100</td>\n",
              "      <td>140</td>\n",
              "      <td>NaN</td>\n",
              "      <td>15</td>\n",
              "      <td>24.363529</td>\n",
              "    </tr>\n",
              "    <tr>\n",
              "      <th>55363</th>\n",
              "      <td>38.342719</td>\n",
              "      <td>-120.695967</td>\n",
              "      <td>22</td>\n",
              "      <td>NaN</td>\n",
              "      <td>0</td>\n",
              "      <td>-1.000000</td>\n",
              "    </tr>\n",
              "    <tr>\n",
              "      <th>55365</th>\n",
              "      <td>40.604300</td>\n",
              "      <td>-123.080450</td>\n",
              "      <td>43</td>\n",
              "      <td>NaN</td>\n",
              "      <td>15</td>\n",
              "      <td>-1.000000</td>\n",
              "    </tr>\n",
              "  </tbody>\n",
              "</table>\n",
              "<p>27477 rows × 6 columns</p>\n",
              "</div>"
            ],
            "text/plain": [
              "        latitude   longitude  ... Vegetation  Temp_pre_7\n",
              "3      39.641400 -119.308300  ...          0   18.142564\n",
              "9      48.839400  -99.718500  ...         15    6.053333\n",
              "11     31.195108  -88.150651  ...         12   -1.000000\n",
              "14     32.775000  -80.658333  ...         12   -1.000000\n",
              "22     40.843386  -73.316419  ...         15   -1.000000\n",
              "...          ...         ...  ...        ...         ...\n",
              "55350  30.400883 -101.331933  ...         12   30.543452\n",
              "55351  45.922100 -111.422500  ...         15   10.420339\n",
              "55352  48.937900 -119.309100  ...         15   24.363529\n",
              "55363  38.342719 -120.695967  ...          0   -1.000000\n",
              "55365  40.604300 -123.080450  ...         15   -1.000000\n",
              "\n",
              "[27477 rows x 6 columns]"
            ]
          },
          "metadata": {
            "tags": []
          },
          "execution_count": 79
        }
      ]
    },
    {
      "cell_type": "code",
      "metadata": {
        "colab": {
          "base_uri": "https://localhost:8080/",
          "height": 246
        },
        "id": "IWlJK6zG01_U",
        "outputId": "47209a58-a8b0-4ab4-d038-500803dcdebc"
      },
      "source": [
        "from sklearn.model_selection import train_test_split\r\n",
        "\r\n",
        "X=putout_data.drop('putout_time', axis=1) \r\n",
        "y=putout_data.putout_time  \r\n",
        "\r\n",
        "X_train, X_test, y_train, y_test = train_test_split(X, y, test_size=0.3)"
      ],
      "execution_count": null,
      "outputs": [
        {
          "output_type": "error",
          "ename": "NameError",
          "evalue": "ignored",
          "traceback": [
            "\u001b[0;31m---------------------------------------------------------------------------\u001b[0m",
            "\u001b[0;31mNameError\u001b[0m                                 Traceback (most recent call last)",
            "\u001b[0;32m<ipython-input-1-a5b3b55f620c>\u001b[0m in \u001b[0;36m<module>\u001b[0;34m()\u001b[0m\n\u001b[1;32m      1\u001b[0m \u001b[0;32mfrom\u001b[0m \u001b[0msklearn\u001b[0m\u001b[0;34m.\u001b[0m\u001b[0mmodel_selection\u001b[0m \u001b[0;32mimport\u001b[0m \u001b[0mtrain_test_split\u001b[0m\u001b[0;34m\u001b[0m\u001b[0;34m\u001b[0m\u001b[0m\n\u001b[1;32m      2\u001b[0m \u001b[0;34m\u001b[0m\u001b[0m\n\u001b[0;32m----> 3\u001b[0;31m \u001b[0mX\u001b[0m\u001b[0;34m=\u001b[0m\u001b[0mputout_data\u001b[0m\u001b[0;34m.\u001b[0m\u001b[0mdrop\u001b[0m\u001b[0;34m(\u001b[0m\u001b[0;34m'putout_time'\u001b[0m\u001b[0;34m,\u001b[0m \u001b[0maxis\u001b[0m\u001b[0;34m=\u001b[0m\u001b[0;36m1\u001b[0m\u001b[0;34m)\u001b[0m\u001b[0;34m\u001b[0m\u001b[0;34m\u001b[0m\u001b[0m\n\u001b[0m\u001b[1;32m      4\u001b[0m \u001b[0my\u001b[0m\u001b[0;34m=\u001b[0m\u001b[0mputout_data\u001b[0m\u001b[0;34m.\u001b[0m\u001b[0mputout_time\u001b[0m\u001b[0;34m\u001b[0m\u001b[0;34m\u001b[0m\u001b[0m\n\u001b[1;32m      5\u001b[0m \u001b[0;34m\u001b[0m\u001b[0m\n",
            "\u001b[0;31mNameError\u001b[0m: name 'putout_data' is not defined"
          ]
        }
      ]
    },
    {
      "cell_type": "code",
      "metadata": {
        "id": "XDjIStDE24Yi"
      },
      "source": [
        "from sklearn.linear_model import LinearRegression\r\n",
        "regressor = LinearRegression()\r\n",
        "regressor.fit(X_train, y_train)"
      ],
      "execution_count": null,
      "outputs": []
    },
    {
      "cell_type": "code",
      "metadata": {
        "id": "MjEwTPYN27LP"
      },
      "source": [
        "y_pred = regressor.predict(X_test)"
      ],
      "execution_count": null,
      "outputs": []
    },
    {
      "cell_type": "code",
      "metadata": {
        "id": "Q59cmGtb2816"
      },
      "source": [
        "df = pd.DataFrame({'Actual': y_test, 'Predicted': y_pred})\r\n",
        "df"
      ],
      "execution_count": null,
      "outputs": []
    },
    {
      "cell_type": "code",
      "metadata": {
        "id": "oCpgBN1U2-0J"
      },
      "source": [
        "from joblib import dump, load\r\n",
        "dump(regressor, 'putout_model.joblib')"
      ],
      "execution_count": null,
      "outputs": []
    }
  ]
}